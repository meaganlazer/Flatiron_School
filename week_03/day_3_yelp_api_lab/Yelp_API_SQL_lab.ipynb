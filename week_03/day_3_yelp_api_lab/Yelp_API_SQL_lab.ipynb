{
 "cells": [
  {
   "cell_type": "markdown",
   "metadata": {},
   "source": [
    "# Yelp API - Lab\n",
    "\n",
    "\n",
    "\n",
    "## Introduction \n",
    "\n",
    "Now that we've seen how the Yelp API works, it's time to put those API and SQL skills to work in order to do some basic business analysis! Taking things a step further, you'll also independently explore how to perform pagination in order to retrieve a full results set from the Yelp API!\n",
    "\n",
    "## Objectives\n",
    "\n",
    "You will be able to:\n",
    "* Create a DB on AWS to store information from Yelp about businesses\n",
    "* Create HTTP requests to get data from Yelp API\n",
    "* Parse HTTP responses and insert the information into your DB\n",
    "* Perform pagination to retrieve troves of data!\n",
    "* Write SQL queries to answer questions about your data "
   ]
  },
  {
   "cell_type": "markdown",
   "metadata": {},
   "source": [
    "## Problem Introduction\n",
    "\n",
    "For this lab you will analyze the yelp data for a group of businesses to learn more about an industry. You will choose a type of business (Italian Restuarants, Nail Salons, Crossfit gyms) and a location to analyze. Then you will get data from the Yelp API, store that data in a SQL Database on AWS, and write queries to answer questions about the data. \n",
    "\n",
    "\n",
    "### Process:\n",
    "\n",
    "1. Read through the SQL questions and the API documentation to determine which pieces of information you need to pull from the Yelp API.\n",
    "\n",
    "2. Create a DB schema with 2 tables. One for the businesses and one for the reviews.\n",
    "\n",
    "3. Create code to:\n",
    "  - Perform a search of businesses using pagination\n",
    "  - Parse the API response for specific data points\n",
    "  - Insert the data into your AWS DB\n",
    "\n",
    "4. Use the functions above in a loop that will paginate over the results to retrieve all of the results. \n",
    "\n",
    "5. Create functions to:\n",
    "  - Retrieve the reviews data of one business\n",
    "  - Parse the reviews response for specific review data\n",
    "  - Insert the review data into the DB\n",
    "\n",
    "6. Using SQL, query all of the business IDs. Using the 3 Python functions you've created, run your business IDs through a loop to get the reviews for each business and insert them into your DB.\n",
    "\n",
    "7. Write SQL queries to answer the following questions about your data.\n",
    "\n",
    "\n",
    "Bonus Steps:  \n",
    "- Place your helper functions in a package so that your final notebook only has the major steps listed.\n",
    "- Rewrite your business search functions to be able take an argument for the type of business you are searching for.\n",
    "- Add another group of businesses to your database.\n"
   ]
  },
  {
   "cell_type": "markdown",
   "metadata": {},
   "source": [
    " \n",
    "## SQL Questions:\n",
    "\n",
    "- Which are the 5 most reviewed businesses?\n",
    "- What is the highest rating recieved in your data set and how many businesses have that rating?\n",
    "- What percentage of businesses have a rating greater than or  4.5?\n",
    "- What percentage of businesses have a rating less than 3?\n",
    "- What is the average rating of restaurants that have a price label of one dollar sign? Two dollar signs? Three dollar signs? \n",
    "- Return the text of the reviews for the most reviewed restaurant. \n",
    "- Return the name of the business with the most recent review. \n",
    "- Find the highest rated business and return text of the most recent review. If multiple business have the same rating, select the restaurant with the most reviews. \n",
    "- Find the lowest rated business and return text of the most recent review.  If multiple business have the same rating, select the restaurant with the least reviews. \n"
   ]
  },
  {
   "cell_type": "markdown",
   "metadata": {},
   "source": [
    "## Part 1 - Understanding your data and question\n",
    "\n",
    "Lok at the question and determine what data you will need to store in your database in order to answer the questions. Start to thin about your DB schema. What tables will you want to create and what columns will you ahve for those tables. \n",
    "\n",
    "Look at the API documentation, and determine what fields of the API response you will match up with the columns you want in your DB tables. \n",
    "\n",
    "\n",
    "https://www.yelp.com/developers/documentation/v3/get_started"
   ]
  },
  {
   "cell_type": "markdown",
   "metadata": {},
   "source": [
    "## Part 2 - Set up the DB\n",
    "\n",
    "Now that you are familiar with the data, create your SQL queries to create the DB and the appropriate tables. "
   ]
  },
  {
   "cell_type": "markdown",
   "metadata": {},
   "source": [
    "### Foriegn Keys\n",
    "\n",
    "For this project you will have two tables that you need to link using a foreign key. Below is some information about how to create a foriegn key.  \n",
    "\n",
    "http://www.mysqltutorial.org/mysql-foreign-key/\n",
    "\n"
   ]
  },
  {
   "cell_type": "markdown",
   "metadata": {},
   "source": [
    "### Using DB:\n",
    "    \n",
    "For this lab, you can either store the data on one DB or put in on both of the partners DBs. If you decide to put it on one DB, you want to make sure both partners have access to it.  To do this you want to add a user to your DB.  \n",
    "\n",
    "[how to add a new user](https://howchoo.com/g/mtm3zdq2nzv/how-to-add-a-mysql-user-and-grant-privileges)"
   ]
  },
  {
   "cell_type": "code",
   "execution_count": 13,
   "metadata": {},
   "outputs": [],
   "source": [
    "## Connect to DB server on AWS\n",
    "import mysql.connector \n",
    "import config\n",
    "cnx = mysql.connector.connect(\n",
    "    host = config.my_info['host'],\n",
    "    user = config.my_info['user'],\n",
    "    passwd = config.my_info['passwd'],\n",
    "    database='Yelp_Business',\n",
    "    port = config.my_info['port']\n",
    ")\n",
    "cursor = cnx.cursor()\n",
    "\n",
    "# import config\n",
    "# import mysql.connector\n",
    "# cnx = mysql.connector.connect(\n",
    "#                             host=config.mycred['host'],\n",
    "#                             user=config.mycred['user'],\n",
    "#                             password=config.mycred['password'],\n",
    "#                             port=config.mycred['port'],\n",
    "#                             database='Yelp_Business'\n",
    "\n",
    "# )\n",
    "\n",
    "# cursor = cnx.cursor()"
   ]
  },
  {
   "cell_type": "code",
   "execution_count": 12,
   "metadata": {},
   "outputs": [],
   "source": [
    "## Create new DB\n",
    "cursor.execute('''CREATE DATABASE Yelp_Business;\n",
    "''')"
   ]
  },
  {
   "cell_type": "code",
   "execution_count": 14,
   "metadata": {},
   "outputs": [],
   "source": [
    "# Create a table for the Businesses\n",
    "\n",
    "# Create a table for the Businesses\n",
    "\n",
    "#Columns: Name (string), Location(string), Review_Count (INT), Rating (FLoat), Price(String), Business_ID(string) (Primary Key)\n",
    "\n",
    "cursor.execute('''CREATE TABLE Businesses (\n",
    "                                Name varchar(255),\n",
    "                                Location varchar(255),\n",
    "                                Review_Count int,\n",
    "                                Rating float,\n",
    "                                Price varchar(255),\n",
    "                                Business_ID varchar(255) NOT NULL,\n",
    "                                PRIMARY KEY (Business_ID)\n",
    ")\n",
    "\n",
    ";\n",
    "\n",
    "'''\n",
    "\n",
    ")"
   ]
  },
  {
   "cell_type": "code",
   "execution_count": 15,
   "metadata": {},
   "outputs": [],
   "source": [
    "# Create a table for the reviews\n",
    "\n",
    "# Create a table for the reviews\n",
    "\n",
    "#columns: Business ID(Foreign Key), Review Text(string), Review Date(String), Review ID (string)\n",
    "\n",
    "cursor.execute('''CREATE TABLE Business_Reviews (\n",
    "                                Review_Text varchar(255),\n",
    "                                Review_Date varchar(255),\n",
    "                                Review_ID varchar(255),\n",
    "                                Business_ID varchar(255) NOT NULL,\n",
    "                                FOREIGN KEY (Business_ID)\n",
    "                                    REFERENCES Businesses (Business_ID))\n",
    "\n",
    ";\n",
    "\n",
    "'''\n",
    "\n",
    ")"
   ]
  },
  {
   "cell_type": "markdown",
   "metadata": {},
   "source": [
    "## Part 3 - Create ETL pipeline for the business data from the API\n",
    "\n",
    "Now that you know what data you need from the API, you want to write code that will execute a api call, parse those results and then insert the results into the DB.  \n",
    "\n",
    "It is helpful to break this up into three different functions (*api call, parse results, and insert into DB*) and then you can write a function/script that pull the other three functions together. \n",
    "\n",
    "Let's first do this for the Business endpoint."
   ]
  },
  {
   "cell_type": "code",
   "execution_count": 24,
   "metadata": {},
   "outputs": [],
   "source": [
    "# Write a function to make a call to the yelp API\n",
    "\n",
    "import requests\n",
    "\n",
    "url = 'https://api.yelp.com/v3/businesses/search'\n",
    "api_key = 'tmHkwzvKJnGUld8d7bqAN88EE15C3M0h-uD5Ku7ujqSRktBnJ4YIrs9Uc-1mvaUv81UBOFSteqdR1MXq4MtUsS6NylOgcV4-3BDrjPHhqgC3CJCYHZBMuPeKaX8oXnYx'\n",
    "\n",
    "headers = {\"Authorization\": \"Bearer {}\".format(api_key),\n",
    "}\n",
    " \n",
    "term = 'chinese restaurant'\n",
    "\n",
    "location = 'New York City'\n",
    "\n",
    "limit = 50\n",
    "\n",
    "offset = 50\n",
    "\n",
    "url_params = {'term': 'chinese restaurant'.replace(' ', '+'),\n",
    "              'location': 'New York City'.replace(' ', '+'),\n",
    "              'limit': 50,\n",
    "              'offset': 50\n",
    "}\n",
    "\n",
    "def call_yelp_data(url,headers, url_params):\n",
    "    response = requests.get(url, headers=headers, params=url_params )\n",
    "    data = response.json()\n",
    "    business_data = data['businesses']\n",
    "    return business_data"
   ]
  },
  {
   "cell_type": "code",
   "execution_count": 25,
   "metadata": {},
   "outputs": [],
   "source": [
    "# business_data = call_yelp_data(url,headers, url_params) \n",
    "# why doesn't this work"
   ]
  },
  {
   "cell_type": "code",
   "execution_count": 26,
   "metadata": {},
   "outputs": [],
   "source": [
    "# write a function to parse the API response \n",
    "# so that you can easily insert the data in to the DB\n",
    "def parse_data(business_data):\n",
    "    business_tuple_list = []\n",
    "    for business in business_data:\n",
    "        business_rev = business.get('price', 'No Price Listed')\n",
    "        business_tuple = (business['name'],\n",
    "                            business['location']['city'],\n",
    "                            business['review_count'],\n",
    "                            business['rating'],\n",
    "                            business_rev,\n",
    "                            business['id'])\n",
    "\n",
    "        business_tuple_list.append(business_tuple)\n",
    "    return business_tuple_list"
   ]
  },
  {
   "cell_type": "code",
   "execution_count": 27,
   "metadata": {},
   "outputs": [],
   "source": [
    "insert_statement = ('''INSERT INTO Businesses (Name, Location, Review_Count, Rating, Price, Business_ID)\n",
    "                        VALUES (%s, %s, %s, %s, %s, %s);\n",
    "'''\n",
    ")\n",
    "\n",
    "\n",
    "def db_insert(cnx, cursor, parsed_results):\n",
    "    cursor.executemany(insert_statement, parsed_results)\n",
    "    cnx.commit()\n"
   ]
  },
  {
   "cell_type": "markdown",
   "metadata": {},
   "source": [
    "## Part 4 -  Create ETL pipeline for the restaurant review data from the API\n",
    "\n",
    "You've done this for the Businesses, now you need to do this for reviews. You will follow the same process, but your functions will be specific to reviews."
   ]
  },
  {
   "cell_type": "code",
   "execution_count": 28,
   "metadata": {},
   "outputs": [],
   "source": [
    "# write a SQL query to pull back all of the business ids \n",
    "# you will need these ids to pull back the reviews for each restaurant\n",
    "cursor.execute('''SELECT Business_ID FROM Businesses;\n",
    "''')"
   ]
  },
  {
   "cell_type": "code",
   "execution_count": 29,
   "metadata": {},
   "outputs": [],
   "source": [
    "results = cursor.fetchall()"
   ]
  },
  {
   "cell_type": "code",
   "execution_count": 30,
   "metadata": {},
   "outputs": [],
   "source": [
    "# write a function that takes a business id \n",
    "# and makes a call to the API for reivews\n",
    "list_of_business_ids = [item[0] for item in results]"
   ]
  },
  {
   "cell_type": "code",
   "execution_count": 31,
   "metadata": {},
   "outputs": [],
   "source": [
    "review_url = 'https://api.yelp.com/v3/businesses/{id}/reviews'"
   ]
  },
  {
   "cell_type": "code",
   "execution_count": 32,
   "metadata": {},
   "outputs": [],
   "source": [
    "#function to get reviews for one business ID which returns one dictionary of reviews\n",
    "def one_business_review_call(business_id):\n",
    "    url = f'https://api.yelp.com/v3/businesses/{business_id}/reviews'\n",
    "    response = requests.get(url, headers=headers)\n",
    "    if not response.ok:\n",
    "        print(f\"Response failed for {business_id}\")\n",
    "        print(\"response.text:\", response.text)\n",
    "        return list()\n",
    "    data = response.json()\n",
    "    return data['reviews']"
   ]
  },
  {
   "cell_type": "code",
   "execution_count": 33,
   "metadata": {},
   "outputs": [],
   "source": [
    "#parse one business review set into a tuple. this returns one review tuple\n",
    "def parse_business_review(review, biz_id):\n",
    "    review_tuple = (review['text'],\n",
    "                    review['time_created'],\n",
    "                    review['id'],\n",
    "                    biz_id)\n",
    "    return review_tuple"
   ]
  },
  {
   "cell_type": "code",
   "execution_count": 34,
   "metadata": {},
   "outputs": [],
   "source": [
    "#create an insert statement to insert review tuple into database\n",
    "review_insert_statement = ('''INSERT INTO Yelp_Business.Business_Reviews (Review_Text,\n",
    "                                Review_Date,\n",
    "                                Review_ID,\n",
    "                                Business_ID)\n",
    "                                \n",
    "                                VALUES (%s, %s, %s, %s);\n",
    "'''\n",
    ")"
   ]
  },
  {
   "cell_type": "code",
   "execution_count": 42,
   "metadata": {},
   "outputs": [],
   "source": [
    "#create function to insert reviews for a business\n",
    "\n",
    "def db_insert(cnx, cursor, review_tuple):\n",
    "    # your code to insert and commit the results\n",
    "    cursor.execute(review_insert_statement, review_tuple)\n",
    "    cnx.commit()  "
   ]
  },
  {
   "cell_type": "code",
   "execution_count": 43,
   "metadata": {},
   "outputs": [],
   "source": [
    "#call, parse, and insert tuples for each business ID\n",
    "\n",
    "def call_parse_insert(cnx,cursor, list_of_business_ids):\n",
    "    for biz_id in list_of_business_ids[212:]:\n",
    "        print(f\"fetching and inserting business {biz_id}\")\n",
    "        business_reviews = one_business_review_call(biz_id)\n",
    "        for review in business_reviews:\n",
    "            review_tuple = parse_business_review(review, biz_id)\n",
    "            db_insert(cnx, cursor, review_tuple)"
   ]
  },
  {
   "cell_type": "code",
   "execution_count": null,
   "metadata": {},
   "outputs": [],
   "source": [
    "# call_parse_insert(cnx,cursor, list_of_business_ids)"
   ]
  },
  {
   "cell_type": "code",
   "execution_count": 44,
   "metadata": {},
   "outputs": [
    {
     "ename": "NameError",
     "evalue": "name 'review_tuple' is not defined",
     "output_type": "error",
     "traceback": [
      "\u001b[0;31m---------------------------------------------------------------------------\u001b[0m",
      "\u001b[0;31mNameError\u001b[0m                                 Traceback (most recent call last)",
      "\u001b[0;32m<ipython-input-44-ca8ce0e183f4>\u001b[0m in \u001b[0;36m<module>\u001b[0;34m\u001b[0m\n\u001b[0;32m----> 1\u001b[0;31m \u001b[0mdb_insert\u001b[0m\u001b[0;34m(\u001b[0m\u001b[0mcnx\u001b[0m\u001b[0;34m,\u001b[0m \u001b[0mcursor\u001b[0m\u001b[0;34m,\u001b[0m \u001b[0mreview_tuple\u001b[0m\u001b[0;34m)\u001b[0m\u001b[0;34m\u001b[0m\u001b[0;34m\u001b[0m\u001b[0m\n\u001b[0m",
      "\u001b[0;31mNameError\u001b[0m: name 'review_tuple' is not defined"
     ]
    }
   ],
   "source": [
    "db_insert(cnx, cursor, review_tuple)"
   ]
  },
  {
   "cell_type": "code",
   "execution_count": 39,
   "metadata": {},
   "outputs": [
    {
     "ename": "NameError",
     "evalue": "name 'review_ids' is not defined",
     "output_type": "error",
     "traceback": [
      "\u001b[0;31m---------------------------------------------------------------------------\u001b[0m",
      "\u001b[0;31mNameError\u001b[0m                                 Traceback (most recent call last)",
      "\u001b[0;32m<ipython-input-39-93e435f460c9>\u001b[0m in \u001b[0;36m<module>\u001b[0;34m\u001b[0m\n\u001b[1;32m      1\u001b[0m \u001b[0;31m#variable for one business reviews\u001b[0m\u001b[0;34m\u001b[0m\u001b[0;34m\u001b[0m\u001b[0;34m\u001b[0m\u001b[0m\n\u001b[1;32m      2\u001b[0m \u001b[0;34m\u001b[0m\u001b[0m\n\u001b[0;32m----> 3\u001b[0;31m \u001b[0mreview_ids\u001b[0m\u001b[0;34m[\u001b[0m\u001b[0;36m0\u001b[0m\u001b[0;34m]\u001b[0m\u001b[0;34m[\u001b[0m\u001b[0;36m0\u001b[0m\u001b[0;34m]\u001b[0m\u001b[0;34m\u001b[0m\u001b[0;34m\u001b[0m\u001b[0m\n\u001b[0m",
      "\u001b[0;31mNameError\u001b[0m: name 'review_ids' is not defined"
     ]
    }
   ],
   "source": [
    "#variable for one business reviews\n",
    "\n",
    "review_ids[0][0]"
   ]
  },
  {
   "cell_type": "code",
   "execution_count": 41,
   "metadata": {},
   "outputs": [],
   "source": [
    "# write a function that takes a business id \n",
    "# and makes a call to the API for reivews\n",
    "\n",
    "def parse_reviews(business_reviews):\n",
    "    review_tuple_list = []\n",
    "    for review in business_reviews:\n",
    "        review_tuple = (review['text'],\n",
    "                        review['time_created'],\n",
    "                        review['id'],\n",
    "                        \n",
    "                        \n",
    "        )"
   ]
  },
  {
   "cell_type": "code",
   "execution_count": null,
   "metadata": {},
   "outputs": [],
   "source": []
  },
  {
   "cell_type": "code",
   "execution_count": null,
   "metadata": {},
   "outputs": [],
   "source": []
  },
  {
   "cell_type": "code",
   "execution_count": null,
   "metadata": {},
   "outputs": [],
   "source": []
  },
  {
   "cell_type": "markdown",
   "metadata": {},
   "source": [
    "## Part 5 -  Write SQL queries that will answer the questions posed. \n",
    "\n",
    "Now that your data is in the DB, you can answer the questions. Write SQL querires that will answer the questions. **Do not use Pandas in this lab**"
   ]
  },
  {
   "cell_type": "code",
   "execution_count": null,
   "metadata": {},
   "outputs": [],
   "source": [
    "# create connection"
   ]
  },
  {
   "cell_type": "code",
   "execution_count": null,
   "metadata": {},
   "outputs": [],
   "source": [
    "# execute SQL queries"
   ]
  },
  {
   "cell_type": "code",
   "execution_count": null,
   "metadata": {},
   "outputs": [],
   "source": []
  },
  {
   "cell_type": "markdown",
   "metadata": {},
   "source": [
    "# Extra Reference help"
   ]
  },
  {
   "cell_type": "markdown",
   "metadata": {},
   "source": [
    "###  Pagination\n",
    "\n",
    "Returning to the Yelp API, the [documentation](https://www.yelp.com/developers/documentation/v3/business_search) also provides us details regarding the API limits. These often include details about the number of requests a user is allowed to make within a specified time limit and the maximum number of results to be returned. In this case, we are told that any request has a maximum of 50 results per request and defaults to 20. Furthermore, any search will be limited to a total of 1000 results. To retrieve all 1000 of these results, we would have to page through the results piece by piece, retriving 50 at a time. Processes such as these are often refered to as pagination.\n",
    "\n",
    "Now that you have an initial response, you can examine the contents of the json container. For example, you might start with ```response.json().keys()```. Here, you'll see a key for `'total'`, which tells you the full number of matching results given your query parameters. Write a loop (or ideally a function) which then makes successive API calls using the offset parameter to retrieve all of the results (or 5000 for a particularly large result set) for the original query. As you do this, be mindful of how you store the data. \n",
    "\n",
    "**Note: be mindful of the API rate limits. You can only make 5000 requests per day, and APIs can make requests too fast. Start prototyping small before running a loop that could be faulty. You can also use time.sleep(n) to add delays. For more details see https://www.yelp.com/developers/documentation/v3/rate_limiting.**"
   ]
  },
  {
   "cell_type": "markdown",
   "metadata": {},
   "source": [
    "***Below is sample code that you can use to help you deal with the pagination parameter and bring all of the functions together.***\n",
    "\n",
    "\n",
    "***Also, something might cause your code to break while it is running. You don't want to constantly repull the same data when this happens, so you should insert the data into the database as you call and parse it, not after you have all of the data***\n"
   ]
  },
  {
   "cell_type": "code",
   "execution_count": null,
   "metadata": {},
   "outputs": [],
   "source": [
    "def yelp_call(url_params, api_key):\n",
    "    # your code to make the yelp call\n",
    "    response = requests.get(url, headers=headers, params=url_params )\n",
    "    data = response.json()\n",
    "    business_data = data['businesses']\n",
    "    return business_data"
   ]
  },
  {
   "cell_type": "code",
   "execution_count": null,
   "metadata": {},
   "outputs": [],
   "source": [
    "def parse_results(results):\n",
    "    # your code to parse the result to make them easier to insert into the DB\n",
    "    business_tuple_list = []\n",
    "    for business in results:\n",
    "        business_rev = business.get('price', 'No Price Listed')\n",
    "        business_tuple = (business['name'],\n",
    "                            business['location']['city'],\n",
    "                            business['review_count'],\n",
    "                            business['rating'],\n",
    "                            business_rev,\n",
    "                            business['id'])\n",
    "\n",
    "        business_tuple_list.append(business_tuple)\n",
    "    return business_tuple_list"
   ]
  },
  {
   "cell_type": "code",
   "execution_count": null,
   "metadata": {},
   "outputs": [],
   "source": [
    "def db_insert(cnx, cursor, parsed_results):\n",
    "    # your code to insert and commit the results\n",
    "    cursor.executemany(insert_statement, parsed_results)\n",
    "    cnx.commit()\n",
    "    # I would create the connection and cursor outside of this function and then pass it through"
   ]
  },
  {
   "cell_type": "code",
   "execution_count": null,
   "metadata": {},
   "outputs": [],
   "source": [
    "# create a variable  to keep track of which result you are in. \n",
    "cur = 0\n",
    "parsed_final = []\n",
    "#set up a while loop to go through and grab the result \n",
    "while cur  < 1000:\n",
    "    #set the offset parameter to be where you currently are in the results \n",
    "    url_params['offset'] = cur\n",
    "    #make your API call with the new offset number\n",
    "    results = yelp_call(url_params, api_key)\n",
    "    \n",
    "    \n",
    "    \n",
    "    #after you get your results you can now use your function to parse those results\n",
    "    parsed_results = parse_results(results)\n",
    "    #add list of tuples to a final list\n",
    "    parsed_final.extend(parsed_results)\n",
    "    \n",
    "    # use your function to insert your parsed results into the db\n",
    "#     db_insert(cnx, cursor, parsed_results)\n",
    "#     increment the counter by 50 to move on to the next results\n",
    "    cur += 50"
   ]
  },
  {
   "cell_type": "code",
   "execution_count": null,
   "metadata": {},
   "outputs": [],
   "source": [
    "# parsed_final\n",
    "# db_insert(cnx, cursor, parsed_final)\n",
    "cnx.close()"
   ]
  },
  {
   "cell_type": "code",
   "execution_count": null,
   "metadata": {},
   "outputs": [],
   "source": []
  },
  {
   "cell_type": "code",
   "execution_count": null,
   "metadata": {},
   "outputs": [],
   "source": []
  },
  {
   "cell_type": "code",
   "execution_count": null,
   "metadata": {},
   "outputs": [],
   "source": []
  },
  {
   "cell_type": "code",
   "execution_count": null,
   "metadata": {},
   "outputs": [],
   "source": []
  }
 ],
 "metadata": {
  "kernelspec": {
   "display_name": "Python 3",
   "language": "python",
   "name": "python3"
  },
  "language_info": {
   "codemirror_mode": {
    "name": "ipython",
    "version": 3
   },
   "file_extension": ".py",
   "mimetype": "text/x-python",
   "name": "python",
   "nbconvert_exporter": "python",
   "pygments_lexer": "ipython3",
   "version": "3.6.9"
  },
  "toc": {
   "base_numbering": 1,
   "nav_menu": {},
   "number_sections": false,
   "sideBar": true,
   "skip_h1_title": false,
   "title_cell": "Table of Contents",
   "title_sidebar": "Contents",
   "toc_cell": false,
   "toc_position": {},
   "toc_section_display": true,
   "toc_window_display": false
  }
 },
 "nbformat": 4,
 "nbformat_minor": 2
}
