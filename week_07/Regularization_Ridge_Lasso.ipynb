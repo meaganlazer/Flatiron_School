{
 "cells": [
  {
   "cell_type": "markdown",
   "metadata": {},
   "source": [
    "# Regularization \n",
    "Agenda today:\n",
    "- Reviewing overfitting & underfitting, bias variance tradeoff\n",
    "- Ridge regression \n",
    "- Lasso regression \n",
    "- AIC and BIC"
   ]
  },
  {
   "cell_type": "markdown",
   "metadata": {},
   "source": [
    "## Part I. Regularizing a Model\n",
    "Even though Lasso and Ridge regressions are only used in regression, regularizing a model is a common procedure in the process of building machine learning models. It is an effectuve procedure for tackling the problem of overfitting. Generally speaking, applying regularization technique introduces some **bias** to the model, but reduces the **variance**, and therefore results in better performance in testing data. As you will see later in this module, models built from various classification algorithms often require tuning using regularization in order to overcome overfitting. \n",
    "\n",
    "What is regularization in the context of regression? As we recall, as the complexity of model increases, the model overfits and performance on the testing set decreases. Regularization techniques *shrinks* the regression coefficients such that the coefficients are not affecting the outcomes as much as they originally would have. In other words, using regularization applies a *penalty* to the coefficients of your regression model. Let's see how exactly Ridge regression and Lasso regression work to reduce variances in regression models and result in better fit. "
   ]
  },
  {
   "cell_type": "markdown",
   "metadata": {},
   "source": [
    "<img src=\"https://media.giphy.com/media/26ufdipQqU2lhNA4g/giphy.gif\" >"
   ]
  },
  {
   "cell_type": "markdown",
   "metadata": {},
   "source": [
    "## Part II. Ridge Regression (L2 Norm)\n",
    "Before we dive into regularization, let's (re)visit a concept called **Cost Function**. A cost function is a measure of how good or bad the model is at estimating the relationship of our $X$ and $y$ variables. Usually, it is expressed in the difference between actual values and predicted values. For simple linear regression, the cost function is represented as:\n",
    "<center> $$ \\text{cost_function}= \\sum_{i=1}^n(y_i - \\hat{y})^2 = \\sum_{i=1}^n(y_i - \\sum( bx + b_0))^2$$\n"
   ]
  },
  {
   "cell_type": "markdown",
   "metadata": {},
   "source": [
    "For linear regression with multiple predictors, the cost function is expressed as:\n",
    "$$ \\text{cost_function}= \\sum_{i=1}^n(y_i - \\hat{y})^2 = \\sum_{i=1}^n(y_i - \\sum_{j=1}^k(m_jx_{ij} + b))^2$$\n",
    "\n",
    "Where k stands for number of predictors at jth term.\n",
    "\n",
    "The ridge regression applies a penalizing parameter $\\lambda$ *slope* $^2$, such that a small bias will be introduced to the entire model depending on the value of $\\lambda$, which is called a *hyperparameter*. \n",
    "\n",
    "$ \\text{cost_function_ridge}= \\sum_{i=1}^n(y_i - \\hat{y})^2 = \\sum_{i=1}^n(y_i - \\sum_{j=1}^k(m_jx_{ij} + b))^2 + \\lambda \\sum_{j=1}^p m_j^2$\n",
    "\n",
    "The result of applying such a penalizing parameter to the cost function, resulting a different regression model that minimizing the residual sum of square **and** the term $\\lambda \\sum_{j=1}^p m_j^2$. \n",
    "\n",
    "The Ridge regression improves the fit of the original regression line by introducing some bias/changing the slope and intercept of the original line. Recall the way we interpret a regression model Y = mx + b: with every unit increase in x, the outcome y increase by m unit. Therefore, the bigger the coefficient m is, the more the outcome is subjected to changes in predictor x. Ridge regression works by reducing the magnitude of the coefficient m and therefore reducing the effect the predictors have on the outcome. Let's look at a simple example.\n",
    "\n",
    "The ridge regression penalty term contains all of the coefficients squared from the original regression line except for the intercept term. "
   ]
  },
  {
   "cell_type": "markdown",
   "metadata": {},
   "source": [
    "## Part III. Lasso Regression (L1 Norm)\n",
    "Lasso regression is very similar to Ridge regression except for one difference - the penalty term is not squared but the absolute values of the coefficients muliplied by lambda, expressed by:\n",
    "\n",
    "$ \\text{cost_function_lasso}= \\sum_{i=1}^n(y_i - \\hat{y})^2 = \\sum_{i=1}^n(y_i - \\sum_{j=1}^k(m_jx_{ij} + b))^2 + \\lambda \\sum_{j=1}^p \\mid m_j \\mid$\n",
    "\n",
    "The biggest difference in Ridge and Lasso is that Lasso simultaneously performs variable selection: some coefficients are shrunk to 0, rendering them nonexistence in the original regression model. Therefore, Lasso regression performs very well when you have higher dimensional dataset where some predictors are useless; whereas Ridge works best when all the predictors are needed. "
   ]
  },
  {
   "cell_type": "markdown",
   "metadata": {},
   "source": [
    "<img src=\"https://media.giphy.com/media/AWeYSE0qgpk76/giphy.gif\" width= \"400\" />"
   ]
  },
  {
   "cell_type": "code",
   "execution_count": 1,
   "metadata": {
    "scrolled": true
   },
   "outputs": [],
   "source": [
    "# implementation \n",
    "from sklearn.linear_model import LinearRegression\n",
    "from sklearn.preprocessing import MinMaxScaler\n",
    "from sklearn.linear_model import Lasso, Ridge, LinearRegression\n",
    "from sklearn.model_selection import train_test_split\n",
    "import pandas as pd\n",
    "import numpy as np\n",
    "import matplotlib.pyplot as plt\n",
    "import seaborn as sns\n",
    "\n",
    "data = sns.load_dataset('mpg')\n",
    "\n",
    "#data = pd.read_csv(\"https://raw.githubusercontent.com/learn-co-curriculum/dsc-2-24-09-ridge-and-lasso-regression/master/auto-mpg.csv\") \n",
    "data = data.sample(50)\n",
    "y = data[[\"mpg\"]]\n",
    "X = data.drop([\"mpg\", \"name\", \"origin\"], axis=1)\n",
    "\n"
   ]
  },
  {
   "cell_type": "code",
   "execution_count": 2,
   "metadata": {},
   "outputs": [
    {
     "data": {
      "text/plain": [
       "mpg             0\n",
       "cylinders       0\n",
       "displacement    0\n",
       "horsepower      0\n",
       "weight          0\n",
       "acceleration    0\n",
       "model_year      0\n",
       "origin          0\n",
       "name            0\n",
       "dtype: int64"
      ]
     },
     "execution_count": 2,
     "metadata": {},
     "output_type": "execute_result"
    }
   ],
   "source": [
    "data.isnull().sum()"
   ]
  },
  {
   "cell_type": "markdown",
   "metadata": {},
   "source": [
    "### Perform a train test split"
   ]
  },
  {
   "cell_type": "code",
   "execution_count": 3,
   "metadata": {},
   "outputs": [],
   "source": [
    "X_train , X_test, y_train, y_test = train_test_split(X, y, test_size=0.2, random_state=12)\n"
   ]
  },
  {
   "cell_type": "code",
   "execution_count": 4,
   "metadata": {},
   "outputs": [
    {
     "data": {
      "text/plain": [
       "cylinders\n",
       "3    100.000000\n",
       "4     78.263158\n",
       "5     77.000000\n",
       "6    102.250000\n",
       "8    170.636364\n",
       "Name: horsepower, dtype: float64"
      ]
     },
     "execution_count": 4,
     "metadata": {},
     "output_type": "execute_result"
    }
   ],
   "source": [
    "X_train.groupby('cylinders')['horsepower'].mean()"
   ]
  },
  {
   "cell_type": "markdown",
   "metadata": {},
   "source": [
    "### Handle missing values"
   ]
  },
  {
   "cell_type": "code",
   "execution_count": 46,
   "metadata": {},
   "outputs": [
    {
     "name": "stdout",
     "output_type": "stream",
     "text": [
      "{3.0: 100.0, 4.0: 78.3, 5.0: 77.0, 6.0: 102.2, 8.0: 170.6}\n"
     ]
    },
    {
     "name": "stderr",
     "output_type": "stream",
     "text": [
      "/opt/anaconda3/envs/learn-env/lib/python3.6/site-packages/pandas/core/generic.py:6287: SettingWithCopyWarning: \n",
      "A value is trying to be set on a copy of a slice from a DataFrame\n",
      "\n",
      "See the caveats in the documentation: http://pandas.pydata.org/pandas-docs/stable/user_guide/indexing.html#returning-a-view-versus-a-copy\n",
      "  self._update_inplace(new_data)\n"
     ]
    }
   ],
   "source": [
    "cyl_hp = X_train.groupby('cylinders')['horsepower'].mean().round(1).to_dict()\n",
    "print(cyl_hp)\n",
    "\n",
    "X_train['horsepower'].fillna(data['cylinders'].map(cyl_hp), inplace=True)\n"
   ]
  },
  {
   "cell_type": "markdown",
   "metadata": {},
   "source": [
    "### Scale the data by fitting the scaler to the train set and then transforming the train and test set.  "
   ]
  },
  {
   "cell_type": "code",
   "execution_count": 6,
   "metadata": {},
   "outputs": [],
   "source": [
    "scale = MinMaxScaler()\n",
    "transformed = scale.fit_transform(X_train)\n",
    "X_train = pd.DataFrame(transformed, columns = X_train.columns)"
   ]
  },
  {
   "cell_type": "code",
   "execution_count": 7,
   "metadata": {},
   "outputs": [],
   "source": [
    "transformed = scale.transform(X_test)\n",
    "X_test = pd.DataFrame(transformed, columns = X_train.columns)"
   ]
  },
  {
   "cell_type": "code",
   "execution_count": 8,
   "metadata": {},
   "outputs": [
    {
     "data": {
      "text/html": [
       "<div>\n",
       "<style scoped>\n",
       "    .dataframe tbody tr th:only-of-type {\n",
       "        vertical-align: middle;\n",
       "    }\n",
       "\n",
       "    .dataframe tbody tr th {\n",
       "        vertical-align: top;\n",
       "    }\n",
       "\n",
       "    .dataframe thead th {\n",
       "        text-align: right;\n",
       "    }\n",
       "</style>\n",
       "<table border=\"1\" class=\"dataframe\">\n",
       "  <thead>\n",
       "    <tr style=\"text-align: right;\">\n",
       "      <th></th>\n",
       "      <th>cylinders</th>\n",
       "      <th>displacement</th>\n",
       "      <th>horsepower</th>\n",
       "      <th>weight</th>\n",
       "      <th>acceleration</th>\n",
       "      <th>model_year</th>\n",
       "    </tr>\n",
       "  </thead>\n",
       "  <tbody>\n",
       "    <tr>\n",
       "      <td>0</td>\n",
       "      <td>0.2</td>\n",
       "      <td>0.135065</td>\n",
       "      <td>0.186441</td>\n",
       "      <td>0.195721</td>\n",
       "      <td>0.511811</td>\n",
       "      <td>0.166667</td>\n",
       "    </tr>\n",
       "    <tr>\n",
       "      <td>1</td>\n",
       "      <td>0.2</td>\n",
       "      <td>0.109091</td>\n",
       "      <td>0.180791</td>\n",
       "      <td>0.252360</td>\n",
       "      <td>0.527559</td>\n",
       "      <td>1.000000</td>\n",
       "    </tr>\n",
       "    <tr>\n",
       "      <td>2</td>\n",
       "      <td>0.6</td>\n",
       "      <td>0.467532</td>\n",
       "      <td>0.265537</td>\n",
       "      <td>0.474827</td>\n",
       "      <td>0.433071</td>\n",
       "      <td>0.083333</td>\n",
       "    </tr>\n",
       "    <tr>\n",
       "      <td>3</td>\n",
       "      <td>0.2</td>\n",
       "      <td>0.210390</td>\n",
       "      <td>0.175141</td>\n",
       "      <td>0.271240</td>\n",
       "      <td>0.543307</td>\n",
       "      <td>0.916667</td>\n",
       "    </tr>\n",
       "    <tr>\n",
       "      <td>4</td>\n",
       "      <td>0.2</td>\n",
       "      <td>0.127273</td>\n",
       "      <td>0.248588</td>\n",
       "      <td>0.198867</td>\n",
       "      <td>0.425197</td>\n",
       "      <td>0.666667</td>\n",
       "    </tr>\n",
       "  </tbody>\n",
       "</table>\n",
       "</div>"
      ],
      "text/plain": [
       "   cylinders  displacement  horsepower    weight  acceleration  model_year\n",
       "0        0.2      0.135065    0.186441  0.195721      0.511811    0.166667\n",
       "1        0.2      0.109091    0.180791  0.252360      0.527559    1.000000\n",
       "2        0.6      0.467532    0.265537  0.474827      0.433071    0.083333\n",
       "3        0.2      0.210390    0.175141  0.271240      0.543307    0.916667\n",
       "4        0.2      0.127273    0.248588  0.198867      0.425197    0.666667"
      ]
     },
     "execution_count": 8,
     "metadata": {},
     "output_type": "execute_result"
    }
   ],
   "source": [
    "X_test.head()"
   ]
  },
  {
   "cell_type": "code",
   "execution_count": 9,
   "metadata": {},
   "outputs": [
    {
     "data": {
      "text/html": [
       "<div>\n",
       "<style scoped>\n",
       "    .dataframe tbody tr th:only-of-type {\n",
       "        vertical-align: middle;\n",
       "    }\n",
       "\n",
       "    .dataframe tbody tr th {\n",
       "        vertical-align: top;\n",
       "    }\n",
       "\n",
       "    .dataframe thead th {\n",
       "        text-align: right;\n",
       "    }\n",
       "</style>\n",
       "<table border=\"1\" class=\"dataframe\">\n",
       "  <thead>\n",
       "    <tr style=\"text-align: right;\">\n",
       "      <th></th>\n",
       "      <th>mpg</th>\n",
       "    </tr>\n",
       "  </thead>\n",
       "  <tbody>\n",
       "    <tr>\n",
       "      <td>293</td>\n",
       "      <td>31.9</td>\n",
       "    </tr>\n",
       "    <tr>\n",
       "      <td>95</td>\n",
       "      <td>12.0</td>\n",
       "    </tr>\n",
       "    <tr>\n",
       "      <td>200</td>\n",
       "      <td>18.0</td>\n",
       "    </tr>\n",
       "    <tr>\n",
       "      <td>58</td>\n",
       "      <td>25.0</td>\n",
       "    </tr>\n",
       "    <tr>\n",
       "      <td>181</td>\n",
       "      <td>33.0</td>\n",
       "    </tr>\n",
       "    <tr>\n",
       "      <td>307</td>\n",
       "      <td>26.8</td>\n",
       "    </tr>\n",
       "    <tr>\n",
       "      <td>234</td>\n",
       "      <td>24.5</td>\n",
       "    </tr>\n",
       "    <tr>\n",
       "      <td>278</td>\n",
       "      <td>31.5</td>\n",
       "    </tr>\n",
       "    <tr>\n",
       "      <td>190</td>\n",
       "      <td>14.5</td>\n",
       "    </tr>\n",
       "    <tr>\n",
       "      <td>43</td>\n",
       "      <td>13.0</td>\n",
       "    </tr>\n",
       "    <tr>\n",
       "      <td>308</td>\n",
       "      <td>33.5</td>\n",
       "    </tr>\n",
       "    <tr>\n",
       "      <td>375</td>\n",
       "      <td>36.0</td>\n",
       "    </tr>\n",
       "    <tr>\n",
       "      <td>277</td>\n",
       "      <td>16.2</td>\n",
       "    </tr>\n",
       "    <tr>\n",
       "      <td>70</td>\n",
       "      <td>13.0</td>\n",
       "    </tr>\n",
       "    <tr>\n",
       "      <td>309</td>\n",
       "      <td>41.5</td>\n",
       "    </tr>\n",
       "    <tr>\n",
       "      <td>254</td>\n",
       "      <td>20.2</td>\n",
       "    </tr>\n",
       "    <tr>\n",
       "      <td>147</td>\n",
       "      <td>24.0</td>\n",
       "    </tr>\n",
       "    <tr>\n",
       "      <td>297</td>\n",
       "      <td>25.4</td>\n",
       "    </tr>\n",
       "    <tr>\n",
       "      <td>77</td>\n",
       "      <td>22.0</td>\n",
       "    </tr>\n",
       "    <tr>\n",
       "      <td>138</td>\n",
       "      <td>14.0</td>\n",
       "    </tr>\n",
       "    <tr>\n",
       "      <td>99</td>\n",
       "      <td>18.0</td>\n",
       "    </tr>\n",
       "    <tr>\n",
       "      <td>8</td>\n",
       "      <td>14.0</td>\n",
       "    </tr>\n",
       "    <tr>\n",
       "      <td>337</td>\n",
       "      <td>32.4</td>\n",
       "    </tr>\n",
       "    <tr>\n",
       "      <td>16</td>\n",
       "      <td>18.0</td>\n",
       "    </tr>\n",
       "    <tr>\n",
       "      <td>53</td>\n",
       "      <td>31.0</td>\n",
       "    </tr>\n",
       "    <tr>\n",
       "      <td>368</td>\n",
       "      <td>27.0</td>\n",
       "    </tr>\n",
       "    <tr>\n",
       "      <td>84</td>\n",
       "      <td>27.0</td>\n",
       "    </tr>\n",
       "    <tr>\n",
       "      <td>282</td>\n",
       "      <td>22.3</td>\n",
       "    </tr>\n",
       "    <tr>\n",
       "      <td>334</td>\n",
       "      <td>23.7</td>\n",
       "    </tr>\n",
       "    <tr>\n",
       "      <td>381</td>\n",
       "      <td>36.0</td>\n",
       "    </tr>\n",
       "    <tr>\n",
       "      <td>284</td>\n",
       "      <td>20.6</td>\n",
       "    </tr>\n",
       "    <tr>\n",
       "      <td>184</td>\n",
       "      <td>25.0</td>\n",
       "    </tr>\n",
       "    <tr>\n",
       "      <td>364</td>\n",
       "      <td>26.6</td>\n",
       "    </tr>\n",
       "    <tr>\n",
       "      <td>300</td>\n",
       "      <td>23.9</td>\n",
       "    </tr>\n",
       "    <tr>\n",
       "      <td>231</td>\n",
       "      <td>15.5</td>\n",
       "    </tr>\n",
       "    <tr>\n",
       "      <td>319</td>\n",
       "      <td>31.3</td>\n",
       "    </tr>\n",
       "    <tr>\n",
       "      <td>12</td>\n",
       "      <td>15.0</td>\n",
       "    </tr>\n",
       "    <tr>\n",
       "      <td>30</td>\n",
       "      <td>28.0</td>\n",
       "    </tr>\n",
       "    <tr>\n",
       "      <td>116</td>\n",
       "      <td>16.0</td>\n",
       "    </tr>\n",
       "    <tr>\n",
       "      <td>169</td>\n",
       "      <td>20.0</td>\n",
       "    </tr>\n",
       "  </tbody>\n",
       "</table>\n",
       "</div>"
      ],
      "text/plain": [
       "      mpg\n",
       "293  31.9\n",
       "95   12.0\n",
       "200  18.0\n",
       "58   25.0\n",
       "181  33.0\n",
       "307  26.8\n",
       "234  24.5\n",
       "278  31.5\n",
       "190  14.5\n",
       "43   13.0\n",
       "308  33.5\n",
       "375  36.0\n",
       "277  16.2\n",
       "70   13.0\n",
       "309  41.5\n",
       "254  20.2\n",
       "147  24.0\n",
       "297  25.4\n",
       "77   22.0\n",
       "138  14.0\n",
       "99   18.0\n",
       "8    14.0\n",
       "337  32.4\n",
       "16   18.0\n",
       "53   31.0\n",
       "368  27.0\n",
       "84   27.0\n",
       "282  22.3\n",
       "334  23.7\n",
       "381  36.0\n",
       "284  20.6\n",
       "184  25.0\n",
       "364  26.6\n",
       "300  23.9\n",
       "231  15.5\n",
       "319  31.3\n",
       "12   15.0\n",
       "30   28.0\n",
       "116  16.0\n",
       "169  20.0"
      ]
     },
     "execution_count": 9,
     "metadata": {},
     "output_type": "execute_result"
    }
   ],
   "source": [
    "y_train"
   ]
  },
  {
   "cell_type": "code",
   "execution_count": 10,
   "metadata": {},
   "outputs": [
    {
     "data": {
      "text/plain": [
       "cylinders       0\n",
       "displacement    0\n",
       "horsepower      0\n",
       "weight          0\n",
       "acceleration    0\n",
       "model_year      0\n",
       "dtype: int64"
      ]
     },
     "execution_count": 10,
     "metadata": {},
     "output_type": "execute_result"
    }
   ],
   "source": [
    "X_test.isnull().sum()"
   ]
  },
  {
   "cell_type": "code",
   "execution_count": 11,
   "metadata": {},
   "outputs": [
    {
     "data": {
      "text/plain": [
       "cylinders       0\n",
       "displacement    0\n",
       "horsepower      0\n",
       "weight          0\n",
       "acceleration    0\n",
       "model_year      0\n",
       "dtype: int64"
      ]
     },
     "execution_count": 11,
     "metadata": {},
     "output_type": "execute_result"
    }
   ],
   "source": [
    "X_train.isnull().sum()"
   ]
  },
  {
   "cell_type": "markdown",
   "metadata": {},
   "source": [
    "### Build a Ridge, Lasso and regular linear regression model. \n",
    "***Note how in scikit learn, the regularization parameter is denoted by alpha (and not lambda)***\n"
   ]
  },
  {
   "cell_type": "code",
   "execution_count": 12,
   "metadata": {},
   "outputs": [
    {
     "data": {
      "text/plain": [
       "LinearRegression(copy_X=True, fit_intercept=True, n_jobs=None, normalize=False)"
      ]
     },
     "execution_count": 12,
     "metadata": {},
     "output_type": "execute_result"
    }
   ],
   "source": [
    "ridge_01 = Ridge(alpha=0.1)\n",
    "ridge_01.fit(X_train, y_train)\n",
    "\n",
    "lasso_01 = Lasso(alpha=0.1)\n",
    "lasso_01.fit(X_train, y_train)\n",
    "\n",
    "lin = LinearRegression()\n",
    "lin.fit(X_train, y_train)"
   ]
  },
  {
   "cell_type": "code",
   "execution_count": 50,
   "metadata": {},
   "outputs": [
    {
     "name": "stdout",
     "output_type": "stream",
     "text": [
      "Unpenalized Linear Regression Coefficients are:[[-5.62592355e-17  1.44635115e-17 -5.11299072e-19 -9.73741646e-18\n",
      "  -3.37901452e-18 -2.97921981e-19 -1.34064218e-19  8.14922419e-19\n",
      "   1.61493592e-18 -2.18289438e-18  2.57182910e-18  6.64481724e-19\n",
      "   8.99788651e-19  3.87409957e-17 -1.51081966e-17  4.20739928e-16\n",
      "   1.39031685e-17  2.29448427e-17 -4.35722400e-17 -9.48240310e-16\n",
      "  -5.17492884e-18 -3.00343553e-17 -7.33083083e-15  1.08628186e-16\n",
      "  -1.62061580e-17  4.17782062e-18  1.05928947e-17  1.14399721e-17\n",
      "   1.65255130e-19  3.48563330e-18 -9.85629934e-18  1.89704357e-17\n",
      "   3.15440161e-18  4.10562445e-18 -8.43265453e-18 -1.05589511e-16\n",
      "   7.93902335e-16  6.03272998e-17  8.69986553e-17 -2.02084667e-16\n",
      "  -3.55528804e-15 -1.07569920e-17 -1.25941564e-16 -6.77720286e-15\n",
      "   7.48907560e-16  7.75819895e-16  1.91596304e-17  5.42633893e-17\n",
      "   7.51641091e-17 -7.73613964e-15  3.39520898e-16 -6.27728307e-15\n",
      "   9.30654033e-16  2.61278349e-15 -1.59758318e-16 -1.31380248e-14\n",
      "  -2.85276845e-17 -1.09383522e-15  3.39001617e-13  1.35753875e-14\n",
      "   2.31553371e-14  3.49432942e-16  9.40992330e-16  8.57497630e-16\n",
      "  -1.04815363e-15 -4.74073411e-14 -5.65065706e-16 -2.03553673e-15\n",
      "  -1.17817638e-12 -1.14487047e-14 -4.35685592e-14 -9.76327113e-18\n",
      "  -1.72927344e-16 -1.40189056e-15 -9.84218121e-12  3.93808725e-14\n",
      "  -1.85678817e-13  4.64405116e-15  1.06709130e-14  7.07123268e-15\n",
      "   1.07480559e-16  3.25892429e-16  8.43269466e-16  8.10158475e-16\n",
      "  -6.91906647e-19 -1.87210400e-17 -5.45710855e-17 -3.28838039e-16\n",
      "   1.20473018e-17  6.27681543e-18 -7.13622961e-16 -6.24733882e-16\n",
      "  -6.99078319e-15  2.00965689e-16  7.54682288e-17 -1.03168982e-15\n",
      "  -1.71743872e-14 -2.18921430e-17 -7.16288311e-16 -9.97882216e-14\n",
      "   3.32317766e-15  1.59015685e-15  8.00108471e-17  2.44419731e-16\n",
      "   2.83155096e-16 -4.11599725e-14  1.33713220e-15 -2.64664150e-13\n",
      "   1.69130932e-15  1.32321221e-15 -2.41829423e-15 -9.51412342e-14\n",
      "   3.11377795e-16 -1.00041262e-14 -1.16587623e-12  4.76987262e-14\n",
      "   2.58232029e-14  1.32683824e-15  4.26994742e-15  3.21068454e-15\n",
      "  -8.27058313e-15 -2.13675516e-13 -1.60717131e-15 -1.29593702e-14\n",
      "  -3.95215438e-12 -2.38242734e-14 -2.01301271e-13  1.36717609e-16\n",
      "  -9.46983431e-17 -7.14033971e-15 -1.02315578e-11  6.62359303e-13\n",
      "   4.64402688e-13  2.19352017e-14  6.52333651e-14  7.90912284e-14\n",
      "   4.47789409e-16  1.48156855e-15  4.21853866e-15  5.02732199e-15\n",
      "  -3.14080659e-12 -1.19557991e-13 -2.10781935e-11 -8.54842008e-14\n",
      "  -5.84103879e-14  3.80609875e-13  1.75080817e-12  2.66753239e-14\n",
      "  -1.27530996e-16 -8.75753797e-11 -7.82212296e-14  1.35472476e-12\n",
      "   1.45767345e-14  7.37019579e-14  1.48041236e-13  2.60847597e-13\n",
      "   3.17497459e-12  1.54518053e-14 -4.62184628e-14  2.51420814e-11\n",
      "  -4.53560829e-14 -1.09194788e-12  1.25622762e-15  2.63719442e-15\n",
      "  -9.58546233e-14  3.63183570e-10  5.98891130e-12  1.73983009e-11\n",
      "   3.07111314e-13  9.11491761e-13  4.76417719e-13  7.82673969e-15\n",
      "   2.41343410e-14  5.77431976e-14 -3.71413091e-14  1.52539832e-13\n",
      "   1.25950900e-12 -1.41938264e-15 -1.98203173e-14 -8.56260731e-12\n",
      "  -5.77316288e-13 -1.55281661e-12 -7.68016085e-15 -2.09794967e-14\n",
      "  -6.83969773e-14 -5.76755542e-10 -1.68741688e-11 -4.17012574e-11\n",
      "  -1.22081423e-13 -4.23394421e-13 -1.53984325e-12  1.24568858e-15\n",
      "   2.26730793e-15  5.27876468e-16 -6.14031885e-14 -1.16983855e-12\n",
      "  -7.54777412e-11 -2.30919275e-10  3.74596869e-12  7.14724505e-12\n",
      "   4.80174985e-13  1.30628540e-13  3.67590407e-13  8.91932683e-13\n",
      "   4.63342908e-13  2.48287424e-15  8.05725854e-15  2.46789658e-14\n",
      "   6.20648907e-14  2.55443192e-14 -1.90643021e-17 -3.89485865e-16\n",
      "  -3.58508019e-16 -6.92974115e-15  1.90948846e-17 -1.27374622e-16\n",
      "  -4.29877270e-15 -2.70490048e-15 -1.17679620e-13  6.28795455e-17\n",
      "  -2.92967715e-15 -5.21223878e-15 -1.04814923e-13 -1.83451491e-16\n",
      "  -5.00105224e-15 -2.11833143e-12  4.72836605e-15 -4.20952783e-14\n",
      "   2.59610353e-16  8.56974115e-16 -8.03032267e-17  1.32695421e-13\n",
      "   1.44761494e-13 -2.26023921e-13 -6.65818511e-15 -4.25487650e-14\n",
      "   3.31605246e-14  4.41508870e-14  2.53017878e-15 -7.74209010e-14\n",
      "  -2.40353488e-11 -1.91783703e-14 -8.66833697e-13  3.01669731e-15\n",
      "   1.42094487e-14 -1.03443522e-14 -4.30450252e-14 -9.66595089e-13\n",
      "  -4.08168758e-15 -8.99293371e-14 -2.05322309e-11 -6.10599366e-14\n",
      "  -1.41311206e-12  7.44933297e-16 -1.18534130e-16 -5.33252646e-14\n",
      "  -4.34671255e-10  1.18489371e-12 -9.35876814e-12  7.34053705e-14\n",
      "   2.67832437e-13  7.38907907e-14  1.64896315e-15  6.08853866e-15\n",
      "   1.83985735e-14  1.50875002e-14  8.13980622e-12  7.60304264e-12\n",
      "   7.32601769e-11 -2.23228267e-13 -3.59346882e-14  4.48773590e-12\n",
      "   6.23363370e-11  3.29990186e-13 -4.61699215e-13  3.79178547e-10\n",
      "  -2.90929569e-12 -7.51749190e-12 -2.13435490e-14  2.43346436e-13\n",
      "   2.29151630e-13  1.60839892e-12  2.63699990e-11  2.26256922e-13\n",
      "  -9.35897884e-13  3.37586693e-10  2.10640883e-12 -1.61095431e-11\n",
      "   5.66537141e-15  3.67834554e-14 -9.33038751e-13 -1.06626982e-10\n",
      "  -7.94082059e-12 -1.46052696e-10  5.19176945e-13  3.81338727e-12\n",
      "  -1.92491364e-12  2.40178957e-14  9.59479021e-14  2.86226516e-13\n",
      "  -1.29663171e-13  2.38922774e-13  1.91558264e-12  7.96740059e-14\n",
      "  -8.58195709e-13  1.70834587e-11  2.81402547e-13 -1.68494814e-11\n",
      "  -1.40776372e-14 -6.12163774e-14 -8.20958519e-13  7.07482907e-11\n",
      "  -9.14254094e-12 -2.51437136e-10 -1.70525274e-13 -3.68978739e-13\n",
      "  -1.09883311e-11  6.40222150e-15  2.13662212e-14  3.85849706e-14\n",
      "  -4.31228182e-13  6.17647282e-12  3.62945228e-10 -1.47420099e-10\n",
      "   1.57962051e-11  6.73362270e-11  7.27584613e-11  4.97704893e-13\n",
      "   1.73570424e-12  5.26547140e-12  5.10264354e-12  9.57017529e-15\n",
      "   3.35687258e-14  1.12082045e-13  3.10086314e-13  2.12559923e-13\n",
      "  -2.59531701e-10 -7.04722677e-11 -7.12218048e-10 -4.96622934e-13\n",
      "  -3.57458983e-11  2.05446852e-11 -1.53274908e-10  1.58034765e-11\n",
      "  -5.39623734e-12  2.18576174e-10 -8.27507034e-11 -6.23458414e-11\n",
      "  -3.37289345e-12  5.48477553e-12  3.63751780e-11  2.02740877e-11\n",
      "   1.54315160e-10  1.50403833e-11 -6.05130808e-13 -1.87982610e-10\n",
      "   1.53096444e-10 -6.77426311e-11 -2.22283075e-13  3.47570784e-12\n",
      "  -1.81689900e-12 -1.63416043e-11 -8.46882488e-10  1.96588952e-10\n",
      "  -2.48869464e-11  5.79740891e-11  2.24092826e-10  1.55529399e-13\n",
      "   1.21555941e-12  5.46706540e-12  4.42669285e-12  7.86236431e-12\n",
      "   4.78292409e-11  9.87983462e-12 -5.36474159e-13  4.32876834e-10\n",
      "   1.41340305e-10 -4.04358703e-11  1.28461628e-13  1.59400809e-12\n",
      "  -6.16729963e-12  1.38845407e-11  1.32828883e-09 -1.07278055e-09\n",
      "  -6.69278524e-12  1.20882190e-11 -1.05706638e-10  3.40545461e-14\n",
      "   1.91490299e-13  3.34355643e-13 -1.01679480e-11  3.43870706e-14\n",
      "   5.27430299e-11  1.34541523e-11 -6.87555809e-11  5.28979751e-10\n",
      "  -1.08879764e-10  6.21581101e-12  2.04477404e-11  5.16157849e-11\n",
      "  -1.26532380e-10  1.64605257e-13  5.37886381e-13  1.58093665e-12\n",
      "   2.84573326e-12 -1.38770106e-11  6.54703680e-12  2.45106091e-11\n",
      "   6.52349541e-12  5.19837485e-12 -1.19760472e-10  9.05757005e-11\n",
      "   6.59442806e-11  1.63049736e-14  1.33652409e-12  2.93456777e-12\n",
      "  -3.90936978e-11  8.54965069e-10  6.55526892e-10 -9.99354477e-12\n",
      "  -3.24013619e-12  2.60346440e-11 -1.00132023e-13 -2.34957296e-13\n",
      "  -6.63603291e-14  1.67717236e-13  7.61119671e-13 -1.32219320e-10\n",
      "   3.96659649e-11 -2.86195228e-10 -4.52247675e-10 -9.12596060e-11\n",
      "  -6.76867158e-13 -3.06211182e-12 -3.56525730e-12 -2.35608677e-11\n",
      "   4.78147344e-14  1.29203439e-13  3.59446279e-13  7.74616556e-13\n",
      "  -3.27276910e-12  4.92126456e-15 -8.07613903e-14 -1.38063252e-12\n",
      "   7.19674869e-11 -5.32298216e-11  2.52145083e-11  1.24439399e-10\n",
      "   2.98869852e-10  6.72436587e-10 -2.21412399e-10  3.18213930e-12\n",
      "   9.61078895e-12  2.76506654e-11  6.40383714e-11 -3.52811498e-11\n",
      "   5.40912501e-14  1.81725637e-13  5.94138578e-13  1.80001929e-12\n",
      "   4.11544591e-12 -3.59099591e-12]]\n",
      "9.721215089330409e-10\n",
      "Unpenalized Linear Regression Intercept:[34.52725885]\n"
     ]
    }
   ],
   "source": [
    "print(\"Unpenalized Linear Regression Coefficients are:{}\".format(lin.coef_))\n",
    "print(lin.coef_.sum())\n",
    "print(\"Unpenalized Linear Regression Intercept:{}\".format(lin.intercept_))"
   ]
  },
  {
   "cell_type": "code",
   "execution_count": 48,
   "metadata": {},
   "outputs": [
    {
     "name": "stdout",
     "output_type": "stream",
     "text": [
      "Lasso Regression Coefficients are:[ -0.          -0.          -0.         -18.18921903  -0.\n",
      "   7.5499047 ]\n",
      "-10.63931433311533\n",
      "Lasso Linear Regression Intercept:[26.93430629]\n"
     ]
    }
   ],
   "source": [
    "print(\"Lasso Regression Coefficients are:{}\".format(lasso_01.coef_))\n",
    "print(lasso_01.coef_.sum())\n",
    "print(\"Lasso Linear Regression Intercept:{}\".format(lasso_01.intercept_))"
   ]
  },
  {
   "cell_type": "code",
   "execution_count": 15,
   "metadata": {
    "scrolled": true
   },
   "outputs": [
    {
     "name": "stdout",
     "output_type": "stream",
     "text": [
      "Ridge Regression Coefficients are:[[ -3.46184805   7.61785535  -2.57288875 -20.83474939  -1.2874113\n",
      "    8.78729399]]\n",
      "-11.751748155308887\n",
      "Ridge Linear Regression Intercept:[27.78501297]\n"
     ]
    }
   ],
   "source": [
    "print(\"Ridge Regression Coefficients are:{}\".format(ridge_01.coef_))\n",
    "print(ridge_01.coef_.sum())\n",
    "print(\"Ridge Linear Regression Intercept:{}\".format(ridge_01.intercept_))"
   ]
  },
  {
   "cell_type": "markdown",
   "metadata": {},
   "source": [
    "### Fit models with a different lambda"
   ]
  },
  {
   "cell_type": "code",
   "execution_count": 16,
   "metadata": {},
   "outputs": [
    {
     "data": {
      "text/plain": [
       "Lasso(alpha=0.5, copy_X=True, fit_intercept=True, max_iter=1000,\n",
       "      normalize=False, positive=False, precompute=False, random_state=None,\n",
       "      selection='cyclic', tol=0.0001, warm_start=False)"
      ]
     },
     "execution_count": 16,
     "metadata": {},
     "output_type": "execute_result"
    }
   ],
   "source": [
    "ridge_05 = Ridge(alpha=0.5)\n",
    "ridge_05.fit(X_train, y_train)\n",
    "\n",
    "lasso_05 = Lasso(alpha=0.5)\n",
    "lasso_05.fit(X_train, y_train)"
   ]
  },
  {
   "cell_type": "code",
   "execution_count": 17,
   "metadata": {},
   "outputs": [
    {
     "name": "stdout",
     "output_type": "stream",
     "text": [
      "Lasso Regression Coefficients are:[ -2.04156457  -0.          -0.         -12.00068487   0.\n",
      "   4.27196755]\n",
      "-9.770281890336266\n",
      "Lasso Linear Regression Intercept:[27.20924703]\n"
     ]
    }
   ],
   "source": [
    "print(\"Lasso Regression Coefficients are:{}\".format(lasso_05.coef_))\n",
    "print(lasso_05.coef_.sum())\n",
    "print(\"Lasso Linear Regression Intercept:{}\".format(lasso_05.intercept_))\n"
   ]
  },
  {
   "cell_type": "code",
   "execution_count": 18,
   "metadata": {},
   "outputs": [
    {
     "name": "stdout",
     "output_type": "stream",
     "text": [
      "Ridge Regression Coefficients are:[[ -3.32094826  -0.55565618  -3.52180559 -11.27927595  -1.64420668\n",
      "    7.16333373]]\n",
      "-13.158558941835798\n",
      "Ridge Linear Regression Intercept:[28.16283947]\n"
     ]
    }
   ],
   "source": [
    "print(\"Ridge Regression Coefficients are:{}\".format(ridge_05.coef_))\n",
    "print(ridge_05.coef_.sum())\n",
    "\n",
    "print(\"Ridge Linear Regression Intercept:{}\".format(ridge_05.intercept_))"
   ]
  },
  {
   "cell_type": "code",
   "execution_count": 19,
   "metadata": {},
   "outputs": [
    {
     "data": {
      "text/plain": [
       "Lasso(alpha=1, copy_X=True, fit_intercept=True, max_iter=1000, normalize=False,\n",
       "      positive=False, precompute=False, random_state=None, selection='cyclic',\n",
       "      tol=0.0001, warm_start=False)"
      ]
     },
     "execution_count": 19,
     "metadata": {},
     "output_type": "execute_result"
    }
   ],
   "source": [
    "ridge_1 = Ridge(alpha=1)\n",
    "ridge_1.fit(X_train, y_train)\n",
    "\n",
    "lasso_1 = Lasso(alpha=1)\n",
    "lasso_1.fit(X_train, y_train)"
   ]
  },
  {
   "cell_type": "code",
   "execution_count": 20,
   "metadata": {},
   "outputs": [
    {
     "name": "stdout",
     "output_type": "stream",
     "text": [
      "Lasso Regression Coefficients are:[-6.07926499 -0.         -0.         -2.66725576  0.          0.03606874]\n",
      "-8.710452004956627\n",
      "Lasso Linear Regression Intercept:[27.74342301]\n"
     ]
    }
   ],
   "source": [
    "print(\"Lasso Regression Coefficients are:{}\".format(lasso_1.coef_))\n",
    "print(lasso_1.coef_.sum())\n",
    "print(\"Lasso Linear Regression Intercept:{}\".format(lasso_1.intercept_))\n"
   ]
  },
  {
   "cell_type": "code",
   "execution_count": 21,
   "metadata": {},
   "outputs": [
    {
     "name": "stdout",
     "output_type": "stream",
     "text": [
      "Ridge Regression Coefficients are:[[-3.77256638 -2.33311642 -3.43268844 -8.26333409 -1.01592116  6.26733487]]\n",
      "-12.550291613186777\n",
      "Ridge Linear Regression Intercept:[27.97887295]\n"
     ]
    }
   ],
   "source": [
    "print(\"Ridge Regression Coefficients are:{}\".format(ridge_1.coef_))\n",
    "print(ridge_1.coef_.sum())\n",
    "print(\"Ridge Linear Regression Intercept:{}\".format(ridge_1.intercept_))"
   ]
  },
  {
   "cell_type": "code",
   "execution_count": 22,
   "metadata": {},
   "outputs": [],
   "source": [
    "# create predictions\n",
    "y_h_ridge_train_01 = ridge_01.predict(X_train)\n",
    "y_h_ridge_test_01 = ridge_01.predict(X_test)\n",
    "\n",
    "y_h_lasso_train_01 = np.reshape(lasso_01.predict(X_train),(40,1))\n",
    "y_h_lasso_test_01 = np.reshape(lasso_01.predict(X_test),(10,1))\n",
    "\n",
    "y_h_lin_train = lin.predict(X_train)\n",
    "y_h_lin_test = lin.predict(X_test)"
   ]
  },
  {
   "cell_type": "code",
   "execution_count": 23,
   "metadata": {
    "scrolled": true
   },
   "outputs": [
    {
     "name": "stdout",
     "output_type": "stream",
     "text": [
      "(40, 1)\n",
      "(10, 1)\n"
     ]
    }
   ],
   "source": [
    "print(y_h_ridge_train_01.shape)\n",
    "print(y_h_ridge_test_01.shape)"
   ]
  },
  {
   "cell_type": "code",
   "execution_count": 24,
   "metadata": {
    "scrolled": false
   },
   "outputs": [
    {
     "name": "stdout",
     "output_type": "stream",
     "text": [
      "<class 'numpy.ndarray'>\n",
      "<class 'numpy.ndarray'>\n"
     ]
    }
   ],
   "source": [
    "print(type(y_h_lasso_train_01))\n",
    "print(type(y_h_ridge_train_01))"
   ]
  },
  {
   "cell_type": "markdown",
   "metadata": {},
   "source": [
    "#### Examining the Residual for Ridge, Lasso, and Unpenalized Regression coefficients"
   ]
  },
  {
   "cell_type": "code",
   "execution_count": 25,
   "metadata": {
    "scrolled": true
   },
   "outputs": [
    {
     "name": "stdout",
     "output_type": "stream",
     "text": [
      "Train Error Ridge Model mpg    401.411133\n",
      "dtype: float64\n",
      "Test Error Ridge Model mpg    84.718805\n",
      "dtype: float64\n",
      "\n",
      "\n",
      "Train Error Lasso Model mpg    445.707891\n",
      "dtype: float64\n",
      "Test Error Lasso Model mpg    85.322756\n",
      "dtype: float64\n",
      "\n",
      "\n",
      "Train Error Unpenalized Linear Model mpg    369.008387\n",
      "dtype: float64\n",
      "Test Error Unpenalized Linear Model mpg    89.768963\n",
      "dtype: float64\n"
     ]
    }
   ],
   "source": [
    "# examine the residual sum of sq\n",
    "print('Train Error Ridge Model', np.sum((y_train - y_h_ridge_train_01)**2))\n",
    "print('Test Error Ridge Model', np.sum((y_test - y_h_ridge_test_01)**2))\n",
    "print('\\n')\n",
    "\n",
    "print('Train Error Lasso Model', np.sum((y_train - y_h_lasso_train_01)**2))\n",
    "print('Test Error Lasso Model', np.sum((y_test - y_h_lasso_test_01)**2))\n",
    "print('\\n')\n",
    "\n",
    "print('Train Error Unpenalized Linear Model', np.sum((y_train - lin.predict(X_train))**2))\n",
    "print('Test Error Unpenalized Linear Model', np.sum((y_test - lin.predict(X_test))**2))"
   ]
  },
  {
   "cell_type": "markdown",
   "metadata": {},
   "source": [
    "## How does Ridge and Lasso Perform in Higher Dimensional Data?"
   ]
  },
  {
   "cell_type": "markdown",
   "metadata": {},
   "source": [
    "#### 2 degree polynomials"
   ]
  },
  {
   "cell_type": "code",
   "execution_count": 26,
   "metadata": {},
   "outputs": [
    {
     "data": {
      "text/plain": [
       "(50, 9)"
      ]
     },
     "execution_count": 26,
     "metadata": {},
     "output_type": "execute_result"
    }
   ],
   "source": [
    "data.shape"
   ]
  },
  {
   "cell_type": "code",
   "execution_count": 27,
   "metadata": {},
   "outputs": [],
   "source": [
    "## try polynomial features on the regression \n",
    "from sklearn.preprocessing import PolynomialFeatures\n",
    "\n",
    "#instantiate this class\n",
    "poly_2 = PolynomialFeatures(degree=2, interaction_only=False)\n",
    "#fit and transform the data and create a  new dataframe\n",
    "df_poly= pd.DataFrame(poly_2.fit_transform(X), columns=poly_2.get_feature_names(X.columns))\n"
   ]
  },
  {
   "cell_type": "code",
   "execution_count": 28,
   "metadata": {},
   "outputs": [
    {
     "data": {
      "text/plain": [
       "(50, 28)"
      ]
     },
     "execution_count": 28,
     "metadata": {},
     "output_type": "execute_result"
    }
   ],
   "source": [
    "df_poly.shape"
   ]
  },
  {
   "cell_type": "code",
   "execution_count": 29,
   "metadata": {},
   "outputs": [],
   "source": [
    "X_train , X_test, y_train, y_test = train_test_split(df_poly, y, test_size=0.2, random_state=12)\n"
   ]
  },
  {
   "cell_type": "code",
   "execution_count": 30,
   "metadata": {},
   "outputs": [],
   "source": [
    "scale = MinMaxScaler()\n",
    "transformed = scale.fit_transform(X_train)\n",
    "X_train = pd.DataFrame(transformed, columns = X_train.columns)\n",
    "\n",
    "transformed = scale.transform(X_test)\n",
    "X_test = pd.DataFrame(transformed, columns = X_train.columns)"
   ]
  },
  {
   "cell_type": "code",
   "execution_count": 31,
   "metadata": {},
   "outputs": [
    {
     "data": {
      "text/plain": [
       "LinearRegression(copy_X=True, fit_intercept=True, n_jobs=None, normalize=False)"
      ]
     },
     "execution_count": 31,
     "metadata": {},
     "output_type": "execute_result"
    }
   ],
   "source": [
    "\n",
    "# Build a Ridge, Lasso and regular linear regression model. \n",
    "# Note how in scikit learn, the regularization parameter is denoted by alpha (and not lambda)\n",
    "ridge = Ridge(alpha=0.3)\n",
    "ridge.fit(X_train, y_train)\n",
    "\n",
    "lasso = Lasso(alpha=0.3)\n",
    "lasso.fit(X_train, y_train)\n",
    "\n",
    "lin = LinearRegression()\n",
    "lin.fit(X_train, y_train)"
   ]
  },
  {
   "cell_type": "code",
   "execution_count": 32,
   "metadata": {},
   "outputs": [
    {
     "name": "stdout",
     "output_type": "stream",
     "text": [
      "Unpenalized Linear Regression Coefficients are:[[ 3.07270805e+14 -2.05157854e+02 -2.34073552e+01  4.90085996e+02\n",
      "  -7.44762627e+01  4.39008592e+01 -3.97272813e+02 -1.16341699e+02\n",
      "  -3.03721843e+02  5.77516235e+02  1.17142773e+02  2.46804556e+02\n",
      "   1.85558012e+01  7.48704508e+01  1.10149552e+02 -8.89166163e+00\n",
      "   9.17415224e+01  4.78770073e+01 -4.42904243e+02 -2.14170651e+02\n",
      "  -1.40876100e+02 -1.72697541e+02  8.43023169e+01 -1.37920171e+02\n",
      "   1.11668794e+02  7.09056717e+01 -6.38344531e+01  4.18090692e+02]]\n",
      "Unpenalized Linear Regression Intercept:[3.54069162]\n"
     ]
    }
   ],
   "source": [
    "print(\"Unpenalized Linear Regression Coefficients are:{}\".format(lin.coef_))\n",
    "print(\"Unpenalized Linear Regression Intercept:{}\".format(lin.intercept_))"
   ]
  },
  {
   "cell_type": "code",
   "execution_count": 33,
   "metadata": {},
   "outputs": [
    {
     "name": "stdout",
     "output_type": "stream",
     "text": [
      "Lasso Regression Coefficients are:[  0.          -0.23419431  -0.          -0.         -14.19336848\n",
      "   0.           0.          -0.          -0.          -0.\n",
      "  -0.          -0.          -0.          -0.          -0.\n",
      "  -0.          -0.          -0.          -0.          -0.\n",
      "  -2.00615513  -0.          -0.          -0.          -0.\n",
      "   0.           0.           6.0320165 ]\n",
      "Lasso Linear Regression Intercept:[27.17383035]\n"
     ]
    }
   ],
   "source": [
    "print(\"Lasso Regression Coefficients are:{}\".format(lasso.coef_))\n",
    "print(\"Lasso Linear Regression Intercept:{}\".format(lasso.intercept_))"
   ]
  },
  {
   "cell_type": "code",
   "execution_count": 34,
   "metadata": {},
   "outputs": [
    {
     "name": "stdout",
     "output_type": "stream",
     "text": [
      "Ridge Regression Coefficients are:[[ 0.         -1.9299617  -0.33693847 -2.07157971 -6.19739562  1.76235262\n",
      "   4.7718511   0.31013532  1.79617409  0.99502781 -0.45428522  0.27207857\n",
      "  -0.62311374  3.09835257  2.99596956  2.09611067 -0.09183104  0.24716009\n",
      "   1.73261028  0.13156468 -5.22515694 -2.45163458 -1.39166701 -6.09173226\n",
      "  -5.98110719  2.3936552   2.47184317  5.33205519]]\n",
      "Ridge Linear Regression Intercept:[24.94875673]\n"
     ]
    }
   ],
   "source": [
    "print(\"Ridge Regression Coefficients are:{}\".format(ridge.coef_))\n",
    "print(\"Ridge Linear Regression Intercept:{}\".format(ridge.intercept_))"
   ]
  },
  {
   "cell_type": "code",
   "execution_count": 35,
   "metadata": {},
   "outputs": [],
   "source": [
    "# create predictions\n",
    "y_h_ridge_train = ridge.predict(X_train)\n",
    "y_h_ridge_test = ridge.predict(X_test)\n",
    "\n",
    "y_h_lasso_train = np.reshape(lasso.predict(X_train),(40,1))\n",
    "y_h_lasso_test = np.reshape(lasso.predict(X_test),(10,1))\n",
    "\n",
    "y_h_lin_train = lin.predict(X_train)\n",
    "y_h_lin_test = lin.predict(X_test)"
   ]
  },
  {
   "cell_type": "code",
   "execution_count": 36,
   "metadata": {},
   "outputs": [
    {
     "name": "stdout",
     "output_type": "stream",
     "text": [
      "Train Error Ridge Model mpg    333.532974\n",
      "dtype: float64\n",
      "Test Error Ridge Model mpg    60.046126\n",
      "dtype: float64\n",
      "\n",
      "\n",
      "Train Error Lasso Model mpg    490.901885\n",
      "dtype: float64\n",
      "Test Error Lasso Model mpg    80.147256\n",
      "dtype: float64\n",
      "\n",
      "\n",
      "Train Error Unpenalized Linear Model mpg    465.633188\n",
      "dtype: float64\n",
      "Test Error Unpenalized Linear Model mpg    491.194345\n",
      "dtype: float64\n"
     ]
    }
   ],
   "source": [
    "# examine the residual sum of sq\n",
    "print('Train Error Ridge Model', np.sum((y_train - y_h_ridge_train)**2))\n",
    "print('Test Error Ridge Model', np.sum((y_test - y_h_ridge_test)**2))\n",
    "print('\\n')\n",
    "\n",
    "print('Train Error Lasso Model', np.sum((y_train - y_h_lasso_train)**2))\n",
    "print('Test Error Lasso Model', np.sum((y_test - y_h_lasso_test)**2))\n",
    "print('\\n')\n",
    "\n",
    "print('Train Error Unpenalized Linear Model', np.sum((y_train - lin.predict(X_train))**2))\n",
    "print('Test Error Unpenalized Linear Model', np.sum((y_test - lin.predict(X_test))**2))"
   ]
  },
  {
   "cell_type": "markdown",
   "metadata": {},
   "source": [
    "#### Even higher degree polynomials"
   ]
  },
  {
   "cell_type": "code",
   "execution_count": 37,
   "metadata": {},
   "outputs": [
    {
     "data": {
      "text/plain": [
       "(50, 462)"
      ]
     },
     "execution_count": 37,
     "metadata": {},
     "output_type": "execute_result"
    }
   ],
   "source": [
    "poly_5 = PolynomialFeatures(degree=5, interaction_only=False)\n",
    "#fit and transform the data and create a  new dataframe\n",
    "df_poly_5= pd.DataFrame(poly_5.fit_transform(X), columns=poly_5.get_feature_names(X.columns))\n",
    "df_poly_5.shape"
   ]
  },
  {
   "cell_type": "code",
   "execution_count": 38,
   "metadata": {},
   "outputs": [
    {
     "name": "stderr",
     "output_type": "stream",
     "text": [
      "/opt/anaconda3/envs/learn-env/lib/python3.6/site-packages/sklearn/linear_model/ridge.py:189: UserWarning: Singular matrix in solving dual problem. Using least-squares solution instead.\n",
      "  warnings.warn(\"Singular matrix in solving dual problem. Using \"\n",
      "/opt/anaconda3/envs/learn-env/lib/python3.6/site-packages/sklearn/linear_model/coordinate_descent.py:475: ConvergenceWarning: Objective did not converge. You might want to increase the number of iterations. Duality gap: 59.323792973017206, tolerance: 0.22171177500000006\n",
      "  positive)\n"
     ]
    },
    {
     "data": {
      "text/plain": [
       "LinearRegression(copy_X=True, fit_intercept=True, n_jobs=None, normalize=False)"
      ]
     },
     "execution_count": 38,
     "metadata": {},
     "output_type": "execute_result"
    }
   ],
   "source": [
    "X_train , X_test, y_train, y_test = train_test_split(df_poly_5, y, test_size=0.2, random_state=12)\n",
    "\n",
    "# Build a Ridge, Lasso and regular linear regression model. \n",
    "# Note how in scikit learn, the regularization parameter is denoted by alpha (and not lambda)\n",
    "ridge = Ridge(alpha=1)\n",
    "ridge.fit(X_train, y_train)\n",
    "\n",
    "lasso = Lasso(alpha=1)\n",
    "lasso.fit(X_train, y_train)\n",
    "\n",
    "lin = LinearRegression()\n",
    "lin.fit(X_train, y_train)"
   ]
  },
  {
   "cell_type": "code",
   "execution_count": 39,
   "metadata": {},
   "outputs": [],
   "source": [
    "# create predictions\n",
    "y_h_ridge_train = ridge.predict(X_train)\n",
    "y_h_ridge_test = ridge.predict(X_test)\n",
    "\n",
    "y_h_lasso_train = np.reshape(lasso.predict(X_train),(40,1))\n",
    "y_h_lasso_test = np.reshape(lasso.predict(X_test),(10,1))\n",
    "\n",
    "y_h_lin_train = lin.predict(X_train)\n",
    "y_h_lin_test = lin.predict(X_test)"
   ]
  },
  {
   "cell_type": "code",
   "execution_count": 40,
   "metadata": {
    "scrolled": false
   },
   "outputs": [
    {
     "name": "stdout",
     "output_type": "stream",
     "text": [
      "Train Error Ridge Model mpg    124.154515\n",
      "dtype: float64\n",
      "Test Error Ridge Model mpg    1424.952921\n",
      "dtype: float64\n",
      "\n",
      "\n",
      "Train Error Lasso Model mpg    110.67478\n",
      "dtype: float64\n",
      "Test Error Lasso Model mpg    150.580508\n",
      "dtype: float64\n",
      "\n",
      "\n",
      "Train Error Unpenalized Linear Model mpg    3.354251e-18\n",
      "dtype: float64\n",
      "Test Error Unpenalized Linear Model mpg    97234.888821\n",
      "dtype: float64\n"
     ]
    }
   ],
   "source": [
    "# examine the residual sum of sq\n",
    "print('Train Error Ridge Model', np.sum((y_train - y_h_ridge_train)**2))\n",
    "print('Test Error Ridge Model', np.sum((y_test - y_h_ridge_test)**2))\n",
    "print('\\n')\n",
    "\n",
    "print('Train Error Lasso Model', np.sum((y_train - y_h_lasso_train)**2))\n",
    "print('Test Error Lasso Model', np.sum((y_test - y_h_lasso_test)**2))\n",
    "print('\\n')\n",
    "\n",
    "print('Train Error Unpenalized Linear Model', np.sum((y_train - lin.predict(X_train))**2))\n",
    "print('Test Error Unpenalized Linear Model', np.sum((y_test - lin.predict(X_test))**2))"
   ]
  },
  {
   "cell_type": "markdown",
   "metadata": {},
   "source": [
    "## Calculating AIC and BIC \n",
    "AIC and BIC are information criteria for evaluating how good of a model is by giving a measurement of parsimony and goodness of fit. \n",
    "\n",
    "- AIC is defined as: $2k - 2log(L)$\n",
    "- BIC is defined as: $klog(n) - 2log(L)$  "
   ]
  },
  {
   "cell_type": "code",
   "execution_count": 41,
   "metadata": {},
   "outputs": [],
   "source": [
    "def aic(y, y_pred, k):\n",
    "    resid = y - y_pred\n",
    "    sse = (resid**2).sum()\n",
    "    AIC = 2*k - 2*np.log(sse)\n",
    "    \n",
    "    return AIC"
   ]
  },
  {
   "cell_type": "code",
   "execution_count": 42,
   "metadata": {},
   "outputs": [
    {
     "data": {
      "text/plain": [
       "462"
      ]
     },
     "execution_count": 42,
     "metadata": {},
     "output_type": "execute_result"
    }
   ],
   "source": [
    "df_poly_5.shape[1]"
   ]
  },
  {
   "cell_type": "code",
   "execution_count": 43,
   "metadata": {
    "scrolled": true
   },
   "outputs": [
    {
     "data": {
      "text/plain": [
       "mpg    913.971004\n",
       "dtype: float64"
      ]
     },
     "execution_count": 43,
     "metadata": {},
     "output_type": "execute_result"
    }
   ],
   "source": [
    "aic(y_test, y_h_lasso_test, df_poly_5.shape[1])"
   ]
  },
  {
   "cell_type": "code",
   "execution_count": 44,
   "metadata": {},
   "outputs": [
    {
     "data": {
      "text/plain": [
       "mpg    909.476212\n",
       "dtype: float64"
      ]
     },
     "execution_count": 44,
     "metadata": {},
     "output_type": "execute_result"
    }
   ],
   "source": [
    "aic(y_test, y_h_ridge_test, df_poly_5.shape[1])"
   ]
  },
  {
   "cell_type": "code",
   "execution_count": 45,
   "metadata": {},
   "outputs": [
    {
     "data": {
      "text/plain": [
       "mpg    901.03023\n",
       "dtype: float64"
      ]
     },
     "execution_count": 45,
     "metadata": {},
     "output_type": "execute_result"
    }
   ],
   "source": [
    "aic(y_test, y_h_lin_test, df_poly_5.shape[1])"
   ]
  },
  {
   "cell_type": "code",
   "execution_count": null,
   "metadata": {},
   "outputs": [],
   "source": []
  }
 ],
 "metadata": {
  "kernelspec": {
   "display_name": "Python 3",
   "language": "python",
   "name": "python3"
  },
  "language_info": {
   "codemirror_mode": {
    "name": "ipython",
    "version": 3
   },
   "file_extension": ".py",
   "mimetype": "text/x-python",
   "name": "python",
   "nbconvert_exporter": "python",
   "pygments_lexer": "ipython3",
   "version": "3.6.9"
  },
  "toc": {
   "base_numbering": 1,
   "nav_menu": {},
   "number_sections": true,
   "sideBar": true,
   "skip_h1_title": false,
   "title_cell": "Table of Contents",
   "title_sidebar": "Contents",
   "toc_cell": false,
   "toc_position": {},
   "toc_section_display": true,
   "toc_window_display": false
  }
 },
 "nbformat": 4,
 "nbformat_minor": 2
}
